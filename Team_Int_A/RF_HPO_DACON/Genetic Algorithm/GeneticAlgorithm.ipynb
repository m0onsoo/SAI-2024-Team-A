{
 "cells": [
  {
   "cell_type": "code",
   "execution_count": null,
   "metadata": {},
   "outputs": [],
   "source": [
    "import copy\n",
    "import numpy as np\n",
    "import pandas as pd\n",
    "import matplotlib.pyplot as plt\n",
    "from scipy.stats import uniform, randint\n",
    "from sklearn.model_selection import RandomizedSearchCV\n",
    "from sklearn.ensemble import RandomForestClassifier\n",
    "from sklearn.model_selection import train_test_split\n",
    "from sklearn.metrics import roc_auc_score"
   ]
  },
  {
   "cell_type": "code",
   "execution_count": null,
   "metadata": {},
   "outputs": [],
   "source": [
    "data = pd.read_csv('./train.csv')\n",
    "\n",
    "# person_id 컬럼 제거\n",
    "X_train = data.drop(['person_id', 'login'], axis=1)\n",
    "Y_train = data['login']\n",
    "X_data = X_train\n",
    "Y_data = Y_train"
   ]
  },
  {
   "cell_type": "code",
   "execution_count": null,
   "metadata": {},
   "outputs": [],
   "source": [
    "# 예제 데이터 로드 및 분할\n",
    "# X, y = load_your_data()\n",
    "X_train, X_test, Y_train, Y_test = train_test_split(X_data, Y_data, test_size=0.2, random_state=42)\n",
    "\n",
    "# 초기 하이퍼파라미터 설정\n",
    "population_size = 10\n",
    "n_generations = 200\n",
    "mutation_rate = 0.1\n",
    "\n",
    "# 초기 모델 인구 생성\n",
    "population = [{\n",
    "    'n_estimators': np.random.choice([10, 40, 100]),\n",
    "    'min_impurity_decrease': np.random.uniform(0.0001, 0.01),\n",
    "    'max_depth': np.random.randint(10, 40),\n",
    "    'min_samples_split': np.random.randint(2, 20),\n",
    "    'min_samples_leaf': np.random.randint(1, 20)\n",
    "} for _ in range(population_size)]\n",
    "\n",
    "def mutate(param):\n",
    "    # 간단한 변이 로직 구현\n",
    "    if np.random.rand() < mutation_rate:\n",
    "        return np.random.randint(1, 20)\n",
    "    return param\n",
    "\n",
    "for generation in range(n_generations):\n",
    "    print(f\"Generation {generation + 1}/{n_generations}\")\n",
    "    \n",
    "    scores = []\n",
    "    for params in population:\n",
    "        # 모델 학습 및 평가\n",
    "        rf = RandomForestClassifier(**params, random_state=42)\n",
    "        rf.fit(X_train, Y_train)\n",
    "        predictions = rf.predict_proba(X_test)[:, 1]\n",
    "        score = roc_auc_score(Y_test, predictions)\n",
    "        scores.append(score)\n",
    "        \n",
    "    # 가장 성능이 좋은 모델의 파라미터 선택\n",
    "    best_index = np.argmax(scores)\n",
    "    best_params = population[best_index]\n",
    "    \n",
    "    # 새로운 세대를 생성 (가장 좋은 모델의 파라미터를 기반으로)\n",
    "    new_population = []\n",
    "    for _ in range(population_size):\n",
    "        new_params = copy.deepcopy(best_params)\n",
    "        new_params['min_samples_leaf'] = mutate(new_params['min_samples_leaf'])\n",
    "        new_population.append(new_params)\n",
    "    \n",
    "    population = new_population\n",
    "    \n",
    "    print(f\"Best Score in Generation {generation + 1}: {scores[best_index]}\")\n",
    "    print(f\"Best Params: {best_params}\")\n",
    "\n",
    "# 최종 결과 출력\n",
    "print(\"Final Best Params:\", best_params)\n"
   ]
  },
  {
   "cell_type": "code",
   "execution_count": null,
   "metadata": {},
   "outputs": [],
   "source": [
    "submit = pd.read_csv('./sample_submission.csv')\n",
    "\n",
    "# 찾은 최적의 파라미터들을 제출 양식에 맞게 제출\n",
    "for param, value in best_params.items():\n",
    "    if param in submit.columns:\n",
    "        submit[param] = value\n",
    "\n",
    "submit.to_csv('./baseline_submit.csv', index=False)"
   ]
  }
 ],
 "metadata": {
  "kernelspec": {
   "display_name": "Python 3",
   "language": "python",
   "name": "python3"
  },
  "language_info": {
   "name": "python",
   "version": "3.10.11"
  }
 },
 "nbformat": 4,
 "nbformat_minor": 2
}
