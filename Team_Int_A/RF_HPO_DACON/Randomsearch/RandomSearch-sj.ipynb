{
 "cells": [
  {
   "cell_type": "code",
   "execution_count": null,
   "metadata": {},
   "outputs": [],
   "source": [
    "import copy\n",
    "import numpy as np\n",
    "import pandas as pd\n",
    "from scipy.stats import uniform, randint\n",
    "from sklearn.model_selection import RandomizedSearchCV\n",
    "from sklearn.ensemble import RandomForestClassifier\n",
    "from sklearn.model_selection import train_test_split\n",
    "from sklearn.metrics import roc_auc_score"
   ]
  },
  {
   "cell_type": "code",
   "execution_count": null,
   "metadata": {},
   "outputs": [],
   "source": [
    "data = pd.read_csv('./train.csv')\n",
    "\n",
    "# person_id 컬럼 제거\n",
    "X_train = data.drop(['person_id', 'login'], axis=1)\n",
    "y_train = data['login']"
   ]
  },
  {
   "cell_type": "code",
   "execution_count": null,
   "metadata": {},
   "outputs": [],
   "source": [
    "param_search_space = {\n",
    "    'n_estimators': [10, 40, 100],\n",
    "    'min_impurity_decrease': uniform(0.0001, 0.01),\n",
    "    'max_depth': randint(10, 40),\n",
    "    'min_samples_split': randint(2, 20),\n",
    "    'min_samples_leaf': randint(1, 20)\n",
    "}\n",
    "\n",
    "# RandomForestClassifier 객체 생성\n",
    "rf = RandomForestClassifier(random_state=42)\n",
    "\n",
    "# RandomizedSearchCV 객체 생성\n",
    "random_search = RandomizedSearchCV(estimator=rf, param_distributions=param_search_space, n_iter=250, cv=2, n_jobs=-1, verbose=2, scoring='roc_auc', random_state=42)\n",
    "\n",
    "# RandomizedSearchCV를 사용한 학습\n",
    "random_search.fit(X_train, y_train)\n",
    "\n",
    "# 최적의 파라미터와 최고 점수 출력\n",
    "best_params = random_search.best_params_\n",
    "best_score = random_search.best_score_\n",
    "\n",
    "print(best_params, best_score)\n"
   ]
  },
  {
   "cell_type": "code",
   "execution_count": null,
   "metadata": {},
   "outputs": [],
   "source": [
    "submit = pd.read_csv('./sample_submission.csv')\n",
    "\n",
    "# 찾은 최적의 파라미터들을 제출 양식에 맞게 제출\n",
    "for param, value in best_params.items():\n",
    "    if param in submit.columns:\n",
    "        submit[param] = value\n",
    "\n",
    "submit.to_csv('./baseline_submit.csv', index=False)"
   ]
  }
 ],
 "metadata": {
  "kernelspec": {
   "display_name": "Python 3",
   "language": "python",
   "name": "python3"
  },
  "language_info": {
   "name": "python",
   "version": "3.10.11"
  }
 },
 "nbformat": 4,
 "nbformat_minor": 2
}

